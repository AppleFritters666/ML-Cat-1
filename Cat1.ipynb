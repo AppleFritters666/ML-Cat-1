{
 "cells": [
  {
   "cell_type": "markdown",
   "id": "bb77740c",
   "metadata": {},
   "source": [
    "# Preprocessing\n"
   ]
  },
  {
   "cell_type": "code",
   "execution_count": 1,
   "id": "b8ec1df4",
   "metadata": {},
   "outputs": [],
   "source": [
    "import pandas as pd \n",
    "import numpy as np\n",
    "import warnings\n",
    "\n",
    "data = pd.read_csv(r\"C:\\Users\\Lenovo\\Downloads\\swan\\Swarm_Behaviour.csv\")\n",
    "warnings.filterwarnings('ignore')"
   ]
  },
  {
   "cell_type": "markdown",
   "id": "d3e0e5b0",
   "metadata": {},
   "source": [
    "checking for imbalance"
   ]
  },
  {
   "cell_type": "code",
   "execution_count": 2,
   "id": "0e0b8d05",
   "metadata": {},
   "outputs": [
    {
     "data": {
      "text/plain": [
       "0.0    15355\n",
       "1.0     7954\n",
       "Name: Swarm_Behaviour, dtype: int64"
      ]
     },
     "execution_count": 2,
     "metadata": {},
     "output_type": "execute_result"
    }
   ],
   "source": [
    "data['Swarm_Behaviour'].value_counts()"
   ]
  },
  {
   "cell_type": "markdown",
   "id": "67c8da5e",
   "metadata": {},
   "source": [
    "### Undersampling"
   ]
  },
  {
   "cell_type": "code",
   "execution_count": 3,
   "id": "d61ff42a",
   "metadata": {},
   "outputs": [],
   "source": [
    "d1 = data[data['Swarm_Behaviour'] == 0]\n",
    "d2 = data[data['Swarm_Behaviour'] == 1]"
   ]
  },
  {
   "cell_type": "code",
   "execution_count": 4,
   "id": "c48d8f59",
   "metadata": {},
   "outputs": [],
   "source": [
    "d1 = d1[:7954]\n",
    "data = pd.concat([d1,d2]).sample(frac=1)"
   ]
  },
  {
   "cell_type": "markdown",
   "id": "0efa9148",
   "metadata": {},
   "source": [
    "### Splitting Data"
   ]
  },
  {
   "cell_type": "code",
   "execution_count": 5,
   "id": "760c51ff",
   "metadata": {},
   "outputs": [],
   "source": [
    "a = list(data.columns)\n",
    "a.remove('Swarm_Behaviour')\n",
    "x = data[a]\n",
    "y = data['Swarm_Behaviour']"
   ]
  },
  {
   "cell_type": "code",
   "execution_count": 6,
   "id": "3bf2b0ec",
   "metadata": {},
   "outputs": [],
   "source": [
    "from sklearn.model_selection import train_test_split\n",
    "x_train,x_test,y_train,y_test = train_test_split(x,y,test_size=0.25,random_state=0)"
   ]
  },
  {
   "cell_type": "markdown",
   "id": "4fd2d9e5",
   "metadata": {},
   "source": [
    "# Training the Models"
   ]
  },
  {
   "cell_type": "markdown",
   "id": "e4f2658e",
   "metadata": {},
   "source": [
    "### Logistic Regression"
   ]
  },
  {
   "cell_type": "code",
   "execution_count": 7,
   "id": "1bf07f3e",
   "metadata": {},
   "outputs": [
    {
     "data": {
      "text/plain": [
       "LogisticRegression()"
      ]
     },
     "execution_count": 7,
     "metadata": {},
     "output_type": "execute_result"
    }
   ],
   "source": [
    "from sklearn.linear_model import LogisticRegression\n",
    "log_reg = LogisticRegression()\n",
    "log_reg.fit(x_train,y_train)"
   ]
  },
  {
   "cell_type": "code",
   "execution_count": 8,
   "id": "eb4f4eee",
   "metadata": {},
   "outputs": [],
   "source": [
    "log_pred = log_reg.predict(x_test)"
   ]
  },
  {
   "cell_type": "markdown",
   "id": "c8922f32",
   "metadata": {},
   "source": [
    "### Naive Bayes Classifier"
   ]
  },
  {
   "cell_type": "code",
   "execution_count": 9,
   "id": "ad119e82",
   "metadata": {},
   "outputs": [
    {
     "data": {
      "text/plain": [
       "GaussianNB()"
      ]
     },
     "execution_count": 9,
     "metadata": {},
     "output_type": "execute_result"
    }
   ],
   "source": [
    "from sklearn.naive_bayes import GaussianNB\n",
    "classifier = GaussianNB()\n",
    "classifier.fit(x_train,y_train)"
   ]
  },
  {
   "cell_type": "code",
   "execution_count": 10,
   "id": "2f25f2d7",
   "metadata": {},
   "outputs": [],
   "source": [
    "nav_pred = classifier.predict(x_test)"
   ]
  },
  {
   "cell_type": "markdown",
   "id": "e7551f14",
   "metadata": {},
   "source": [
    "### K-Nearest Neighbour"
   ]
  },
  {
   "cell_type": "code",
   "execution_count": 11,
   "id": "241b3b5a",
   "metadata": {},
   "outputs": [
    {
     "data": {
      "text/plain": [
       "KNeighborsClassifier(n_neighbors=3)"
      ]
     },
     "execution_count": 11,
     "metadata": {},
     "output_type": "execute_result"
    }
   ],
   "source": [
    "from sklearn.neighbors import KNeighborsClassifier\n",
    "\n",
    "k_model = KNeighborsClassifier(n_neighbors=3)\n",
    "\n",
    "k_model.fit(x_train,y_train)"
   ]
  },
  {
   "cell_type": "code",
   "execution_count": 12,
   "id": "56fb4ba6",
   "metadata": {},
   "outputs": [],
   "source": [
    "k_pred = k_model.predict(x_test)"
   ]
  },
  {
   "cell_type": "markdown",
   "id": "ed82b2f3",
   "metadata": {},
   "source": [
    "### Decision Tree(Entropy)"
   ]
  },
  {
   "cell_type": "code",
   "execution_count": 13,
   "id": "42941ddb",
   "metadata": {},
   "outputs": [],
   "source": [
    "from sklearn.tree import DecisionTreeClassifier\n",
    "d1_model = DecisionTreeClassifier(criterion='entropy', random_state=0)"
   ]
  },
  {
   "cell_type": "code",
   "execution_count": 14,
   "id": "cad8cc55",
   "metadata": {},
   "outputs": [],
   "source": [
    "d1_model.fit(x_train,y_train)\n",
    "d1_pred = d1_model.predict(x_test)"
   ]
  },
  {
   "cell_type": "markdown",
   "id": "098ae6f7",
   "metadata": {},
   "source": [
    "### Decision Tree(Gini)"
   ]
  },
  {
   "cell_type": "code",
   "execution_count": 15,
   "id": "83447c7b",
   "metadata": {},
   "outputs": [],
   "source": [
    "from sklearn.tree import DecisionTreeClassifier\n",
    "d2_model = DecisionTreeClassifier(criterion='gini', random_state=0)"
   ]
  },
  {
   "cell_type": "code",
   "execution_count": 16,
   "id": "3801e25e",
   "metadata": {},
   "outputs": [],
   "source": [
    "d2_model.fit(x_train,y_train)\n",
    "d2_pred = d2_model.predict(x_test) "
   ]
  },
  {
   "cell_type": "markdown",
   "id": "d5cc5156",
   "metadata": {},
   "source": [
    "# Comparing Accuracy"
   ]
  },
  {
   "cell_type": "markdown",
   "id": "91de502f",
   "metadata": {},
   "source": [
    "### Logistic Regression"
   ]
  },
  {
   "cell_type": "code",
   "execution_count": 17,
   "id": "e83b6ebc",
   "metadata": {},
   "outputs": [],
   "source": [
    "from sklearn.metrics import classification_report"
   ]
  },
  {
   "cell_type": "code",
   "execution_count": 18,
   "id": "b3912352",
   "metadata": {},
   "outputs": [
    {
     "name": "stdout",
     "output_type": "stream",
     "text": [
      "              precision    recall  f1-score   support\n",
      "\n",
      "         0.0       0.94      0.87      0.90      2001\n",
      "         1.0       0.88      0.94      0.91      1976\n",
      "\n",
      "    accuracy                           0.91      3977\n",
      "   macro avg       0.91      0.91      0.91      3977\n",
      "weighted avg       0.91      0.91      0.91      3977\n",
      "\n"
     ]
    }
   ],
   "source": [
    "print(classification_report(y_test,log_pred))    "
   ]
  },
  {
   "cell_type": "markdown",
   "id": "4b3db02d",
   "metadata": {},
   "source": [
    "### Naive Bayes Classifier"
   ]
  },
  {
   "cell_type": "code",
   "execution_count": 19,
   "id": "b1480d73",
   "metadata": {},
   "outputs": [
    {
     "name": "stdout",
     "output_type": "stream",
     "text": [
      "              precision    recall  f1-score   support\n",
      "\n",
      "         0.0       0.81      0.20      0.32      2001\n",
      "         1.0       0.54      0.95      0.69      1976\n",
      "\n",
      "    accuracy                           0.57      3977\n",
      "   macro avg       0.68      0.58      0.51      3977\n",
      "weighted avg       0.68      0.57      0.50      3977\n",
      "\n"
     ]
    }
   ],
   "source": [
    "print(classification_report(y_test,nav_pred))"
   ]
  },
  {
   "cell_type": "markdown",
   "id": "a5e72106",
   "metadata": {},
   "source": [
    "### K-Nearest Neighbours"
   ]
  },
  {
   "cell_type": "code",
   "execution_count": 20,
   "id": "0f38a192",
   "metadata": {
    "scrolled": true
   },
   "outputs": [
    {
     "name": "stdout",
     "output_type": "stream",
     "text": [
      "              precision    recall  f1-score   support\n",
      "\n",
      "         0.0       0.91      0.88      0.89      2001\n",
      "         1.0       0.88      0.91      0.89      1976\n",
      "\n",
      "    accuracy                           0.89      3977\n",
      "   macro avg       0.89      0.89      0.89      3977\n",
      "weighted avg       0.89      0.89      0.89      3977\n",
      "\n"
     ]
    }
   ],
   "source": [
    "print(classification_report(y_test,k_pred))"
   ]
  },
  {
   "cell_type": "markdown",
   "id": "0d87accb",
   "metadata": {},
   "source": [
    "### Decision Tree(Entropy)"
   ]
  },
  {
   "cell_type": "code",
   "execution_count": 21,
   "id": "fbd0b1eb",
   "metadata": {
    "scrolled": true
   },
   "outputs": [
    {
     "name": "stdout",
     "output_type": "stream",
     "text": [
      "              precision    recall  f1-score   support\n",
      "\n",
      "         0.0       0.86      0.89      0.88      2001\n",
      "         1.0       0.88      0.86      0.87      1976\n",
      "\n",
      "    accuracy                           0.87      3977\n",
      "   macro avg       0.87      0.87      0.87      3977\n",
      "weighted avg       0.87      0.87      0.87      3977\n",
      "\n"
     ]
    }
   ],
   "source": [
    "print(classification_report(y_test,d1_pred))"
   ]
  },
  {
   "cell_type": "markdown",
   "id": "d065e7f9",
   "metadata": {},
   "source": [
    "### Decision Tree(Gini)"
   ]
  },
  {
   "cell_type": "code",
   "execution_count": 22,
   "id": "5a5e43aa",
   "metadata": {
    "scrolled": false
   },
   "outputs": [
    {
     "name": "stdout",
     "output_type": "stream",
     "text": [
      "              precision    recall  f1-score   support\n",
      "\n",
      "         0.0       0.86      0.89      0.87      2001\n",
      "         1.0       0.88      0.85      0.87      1976\n",
      "\n",
      "    accuracy                           0.87      3977\n",
      "   macro avg       0.87      0.87      0.87      3977\n",
      "weighted avg       0.87      0.87      0.87      3977\n",
      "\n"
     ]
    }
   ],
   "source": [
    "print(classification_report(y_test,d2_pred))"
   ]
  },
  {
   "cell_type": "markdown",
   "id": "b35aed19",
   "metadata": {},
   "source": [
    "## Cross Validation Results"
   ]
  },
  {
   "cell_type": "code",
   "execution_count": 23,
   "id": "f7b520f8",
   "metadata": {},
   "outputs": [],
   "source": [
    "from sklearn.model_selection import cross_val_score,KFold\n",
    "\n",
    "kf = KFold(n_splits=10)\n",
    "\n",
    "log = cross_val_score(log_reg,x,y,cv=kf,scoring=\"f1\")\n",
    "naive = cross_val_score(classifier,x,y,cv=kf,scoring=\"f1\")\n",
    "knn = cross_val_score(k_model,x,y,cv=kf,scoring=\"f1\")\n",
    "dtree_e = cross_val_score(d1_model,x,y,cv=kf,scoring=\"f1\")\n",
    "dtree_g = cross_val_score(d2_model,x,y,cv=kf,scoring=\"f1\")"
   ]
  },
  {
   "cell_type": "code",
   "execution_count": 30,
   "id": "16e61883",
   "metadata": {},
   "outputs": [],
   "source": [
    "log = log.mean()\n",
    "naive = naive.mean()\n",
    "knn = knn.mean()\n",
    "dtree_e = dtree_e.mean()\n",
    "dtree_g = dtree_g.mean()"
   ]
  },
  {
   "cell_type": "code",
   "execution_count": 52,
   "id": "6610cef8",
   "metadata": {},
   "outputs": [],
   "source": [
    "l1 = [log,knn,dtree_g,dtree_e,naive]\n",
    "l2 = ['Log Reg','KNN','DTree Gini','DTree Entropy','Naive Bayes']\n",
    "result = pd.DataFrame(l1)\n",
    "result.index = l2\n",
    "result.columns=['Accuracy']"
   ]
  },
  {
   "cell_type": "markdown",
   "id": "cbe8e461",
   "metadata": {},
   "source": [
    "### Comparing Models"
   ]
  },
  {
   "cell_type": "code",
   "execution_count": 53,
   "id": "79001b9c",
   "metadata": {},
   "outputs": [
    {
     "data": {
      "text/html": [
       "<div>\n",
       "<style scoped>\n",
       "    .dataframe tbody tr th:only-of-type {\n",
       "        vertical-align: middle;\n",
       "    }\n",
       "\n",
       "    .dataframe tbody tr th {\n",
       "        vertical-align: top;\n",
       "    }\n",
       "\n",
       "    .dataframe thead th {\n",
       "        text-align: right;\n",
       "    }\n",
       "</style>\n",
       "<table border=\"1\" class=\"dataframe\">\n",
       "  <thead>\n",
       "    <tr style=\"text-align: right;\">\n",
       "      <th></th>\n",
       "      <th>Accuracy</th>\n",
       "    </tr>\n",
       "  </thead>\n",
       "  <tbody>\n",
       "    <tr>\n",
       "      <th>Log Reg</th>\n",
       "      <td>0.910429</td>\n",
       "    </tr>\n",
       "    <tr>\n",
       "      <th>KNN</th>\n",
       "      <td>0.893920</td>\n",
       "    </tr>\n",
       "    <tr>\n",
       "      <th>DTree Gini</th>\n",
       "      <td>0.866036</td>\n",
       "    </tr>\n",
       "    <tr>\n",
       "      <th>DTree Entropy</th>\n",
       "      <td>0.865014</td>\n",
       "    </tr>\n",
       "    <tr>\n",
       "      <th>Naive Bayes</th>\n",
       "      <td>0.689173</td>\n",
       "    </tr>\n",
       "  </tbody>\n",
       "</table>\n",
       "</div>"
      ],
      "text/plain": [
       "               Accuracy\n",
       "Log Reg        0.910429\n",
       "KNN            0.893920\n",
       "DTree Gini     0.866036\n",
       "DTree Entropy  0.865014\n",
       "Naive Bayes    0.689173"
      ]
     },
     "execution_count": 53,
     "metadata": {},
     "output_type": "execute_result"
    }
   ],
   "source": [
    "result\n"
   ]
  },
  {
   "cell_type": "code",
   "execution_count": 58,
   "id": "71efc439",
   "metadata": {},
   "outputs": [
    {
     "data": {
      "text/plain": [
       "(0.65, 1.0)"
      ]
     },
     "execution_count": 58,
     "metadata": {},
     "output_type": "execute_result"
    },
    {
     "data": {
      "image/png": "[encoded data removed]",
      "text/plain": [
       "<Figure size 432x288 with 1 Axes>"
      ]
     },
     "metadata": {
      "needs_background": "light"
     },
     "output_type": "display_data"
    }
   ],
   "source": [
    "import matplotlib.pyplot as plt \n",
    "\n",
    "plt.bar(l2,l1)\n",
    "plt.tight_layout()\n",
    "plt.ylim(0.65,1)"
   ]
  }
 ],
 "metadata": {
  "kernelspec": {
   "display_name": "Python 3 (ipykernel)",
   "language": "python",
   "name": "python3"
  },
  "language_info": {
   "codemirror_mode": {
    "name": "ipython",
    "version": 3
   },
   "file_extension": ".py",
   "mimetype": "text/x-python",
   "name": "python",
   "nbconvert_exporter": "python",
   "pygments_lexer": "ipython3",
   "version": "3.9.12"
  }
 },
 "nbformat": 4,
 "nbformat_minor": 5
}
